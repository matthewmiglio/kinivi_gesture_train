{
 "cells": [
  {
   "cell_type": "code",
   "execution_count": 41,
   "id": "ebce9b67",
   "metadata": {},
   "outputs": [],
   "source": [
    "import csv\n",
    "\n",
    "\n",
    "def read_csv(file_path):\n",
    "    with open(file_path, mode=\"r\", encoding=\"utf-8\") as file:\n",
    "        reader = csv.reader(file)\n",
    "        data = [row for row in reader]\n",
    "\n",
    "    return data"
   ]
  },
  {
   "cell_type": "code",
   "execution_count": 42,
   "id": "597769b0",
   "metadata": {},
   "outputs": [
    {
     "name": "stdout",
     "output_type": "stream",
     "text": [
      "c:\\my_files\\code\\train-keypoint-classifier\\isolated_data\n",
      "Found 6 csvs\n"
     ]
    }
   ],
   "source": [
    "import os\n",
    "import random\n",
    "top_folder = os.getcwd()\n",
    "print(top_folder)\n",
    "csvs = [f for f in os.listdir(top_folder) if f.endswith('.csv')]\n",
    "csvs = [os.path.join(top_folder, f) for f in csvs]\n",
    "print(f'Found {len(csvs)} csvs')\n",
    "random.shuffle(csvs)"
   ]
  },
  {
   "cell_type": "code",
   "execution_count": 43,
   "id": "39c8e887",
   "metadata": {},
   "outputs": [
    {
     "name": "stdout",
     "output_type": "stream",
     "text": [
      "This csv c:\\my_files\\code\\train-keypoint-classifier\\isolated_data\\open.csv has 4215 rows\n",
      "This csv c:\\my_files\\code\\train-keypoint-classifier\\isolated_data\\old_pointer.csv has 1356 rows\n",
      "This csv c:\\my_files\\code\\train-keypoint-classifier\\isolated_data\\camera_point.csv has 3789 rows\n",
      "This csv c:\\my_files\\code\\train-keypoint-classifier\\isolated_data\\close.csv has 5063 rows\n",
      "This csv c:\\my_files\\code\\train-keypoint-classifier\\isolated_data\\vert_point.csv has 11840 rows\n",
      "This csv c:\\my_files\\code\\train-keypoint-classifier\\isolated_data\\ok.csv has 337 rows\n"
     ]
    }
   ],
   "source": [
    "for csv_path in csvs:\n",
    "    rows = read_csv(csv_path)\n",
    "    print(f'This csv {csv_path} has {len(rows)} rows')"
   ]
  }
 ],
 "metadata": {
  "kernelspec": {
   "display_name": "Python 3",
   "language": "python",
   "name": "python3"
  },
  "language_info": {
   "codemirror_mode": {
    "name": "ipython",
    "version": 3
   },
   "file_extension": ".py",
   "mimetype": "text/x-python",
   "name": "python",
   "nbconvert_exporter": "python",
   "pygments_lexer": "ipython3",
   "version": "3.11.0"
  }
 },
 "nbformat": 4,
 "nbformat_minor": 5
}
