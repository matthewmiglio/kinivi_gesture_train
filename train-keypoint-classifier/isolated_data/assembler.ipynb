{
 "cells": [
  {
   "cell_type": "code",
   "execution_count": null,
   "id": "c0985b70",
   "metadata": {},
   "outputs": [
    {
     "name": "stdout",
     "output_type": "stream",
     "text": [
      "c:\\my_files\\code\\train-keypoint-classifier\\2025-05-02-19-12-08\n",
      "Just created c:\\my_files\\code\\train-keypoint-classifier\n"
     ]
    }
   ],
   "source": [
    "import csv\n",
    "import os\n",
    "import datetime\n",
    "\n",
    "\n",
    "def read_csv(file_path):\n",
    "    with open(file_path, mode=\"r\", encoding=\"utf-8\") as file:\n",
    "        reader = csv.reader(file)\n",
    "        data = [row for row in reader]\n",
    "    return data\n",
    "\n",
    "\n",
    "def create_csv(path, rows):\n",
    "    with open(path, mode=\"w\", newline=\"\", encoding=\"utf-8\") as file:\n",
    "        writer = csv.writer(file)\n",
    "        for row in rows:\n",
    "            writer.writerow(row)\n",
    "\n",
    "\n",
    "def get_readable_time():\n",
    "    now = datetime.datetime.now()\n",
    "    return now.strftime(\"%Y-%m-%d-%H-%M-%S\")\n",
    "\n",
    "\n",
    "#new files\n",
    "new_csv_folder_path = os.getcwd().replace(\n",
    "    \"isolated_data\", f\"{get_readable_time()}\"\n",
    ")\n",
    "keypoint_csv_path = os.path.join(new_csv_folder_path, \"keypoint.csv\")\n",
    "label_csv_path = os.path.join(new_csv_folder_path, \"keypoint_classifier_label.csv\")\n",
    "os.makedirs(new_csv_folder_path, exist_ok=True)\n",
    "print(new_csv_folder_path)\n",
    "print(f'Just created {os.path.dirname(new_csv_folder_path)}')"
   ]
  },
  {
   "cell_type": "code",
   "execution_count": 47,
   "id": "4ff00d95",
   "metadata": {},
   "outputs": [],
   "source": [
    "def get_label(csv_path):\n",
    "    rows = read_csv(csv_path)\n",
    "    first_row = rows[0]\n",
    "    label = first_row[0]\n",
    "    return label"
   ]
  },
  {
   "cell_type": "code",
   "execution_count": 48,
   "id": "681651d5",
   "metadata": {},
   "outputs": [
    {
     "name": "stdout",
     "output_type": "stream",
     "text": [
      "{'0': 'open', '1': 'close', '2': 'camera_point', '3': 'vert_point'}\n"
     ]
    }
   ],
   "source": [
    "#make label file\n",
    "\n",
    "input_csvs = [\n",
    "    r'C:\\my_files\\code\\train-keypoint-classifier\\isolated_data\\camera_point.csv',\n",
    "    r'C:\\my_files\\code\\train-keypoint-classifier\\isolated_data\\close.csv',\n",
    "    r'C:\\my_files\\code\\train-keypoint-classifier\\isolated_data\\open.csv',\n",
    "    r'C:\\my_files\\code\\train-keypoint-classifier\\isolated_data\\vert_point.csv',\n",
    "]\n",
    "\n",
    "labelIndex2name = {}\n",
    "for input_csv in input_csvs:\n",
    "    label_number = get_label(input_csv)\n",
    "    label_name = os.path.basename(input_csv).split(\".\")[0]\n",
    "    labelIndex2name[label_number] = label_name\n",
    "\n",
    "#sort the labelIndex2name dictionary by key\n",
    "labelIndex2name = dict(sorted(labelIndex2name.items(), key=lambda item: item[0]))\n",
    "print(labelIndex2name)\n",
    "\n",
    "expected_indicies = list(range(len(input_csvs)))\n",
    "for check_value in expected_indicies:\n",
    "    if str(check_value) not in labelIndex2name.keys():\n",
    "        print(f'WARNING! Youre missing {check_value}. Ideally you want your set to contain these indicies: {expected_indicies} but you have {labelIndex2name.keys()} ')\n",
    "\n",
    "label_rows = []\n",
    "for label_index, label_name in labelIndex2name.items():\n",
    "    label_rows.append([label_index, label_name])\n",
    "create_csv(label_csv_path, label_rows)"
   ]
  },
  {
   "cell_type": "code",
   "execution_count": null,
   "id": "916b59fa",
   "metadata": {},
   "outputs": [
    {
     "name": "stdout",
     "output_type": "stream",
     "text": [
      "Before evening out, heres the inputFile2rows\n",
      "C:\\my_files\\code\\train-keypoint-classifier\\isolated_data\\camera_point.csv has 3789 rows\n",
      "C:\\my_files\\code\\train-keypoint-classifier\\isolated_data\\close.csv has 5063 rows\n",
      "C:\\my_files\\code\\train-keypoint-classifier\\isolated_data\\open.csv has 4215 rows\n",
      "C:\\my_files\\code\\train-keypoint-classifier\\isolated_data\\vert_point.csv has 11840 rows\n",
      "Lowest row count: 3789\n",
      "After evening out, heres the inputFile2rows\n",
      "C:\\my_files\\code\\train-keypoint-classifier\\isolated_data\\camera_point.csv has 3789 rows\n",
      "C:\\my_files\\code\\train-keypoint-classifier\\isolated_data\\close.csv has 3789 rows\n",
      "C:\\my_files\\code\\train-keypoint-classifier\\isolated_data\\open.csv has 3789 rows\n",
      "C:\\my_files\\code\\train-keypoint-classifier\\isolated_data\\vert_point.csv has 3789 rows\n",
      "All rows has 15156 rows\n",
      "Created c:\\my_files\\code\\train-keypoint-classifier\\2025-05-02-19-12-08\\keypoints.csv and c:\\my_files\\code\\train-keypoint-classifier\\2025-05-02-19-12-08\\keypoint_classifier_label.csv with 3789 rows\n"
     ]
    }
   ],
   "source": [
    "#make keypoint file\n",
    "\n",
    "inputFile2rows = {}\n",
    "\n",
    "for input_csv in input_csvs:\n",
    "    rows = read_csv(input_csv)\n",
    "    inputFile2rows[input_csv] = rows\n",
    "\n",
    "print('Before evening out, heres the inputFile2rows')\n",
    "for input_csv, rows in inputFile2rows.items():\n",
    "    print(f'{input_csv} has {len(rows)} rows')\n",
    "\n",
    "lowest_row_count = min([len(rows) for rows in inputFile2rows.values()])\n",
    "print(f\"Lowest row count: {lowest_row_count}\")\n",
    "\n",
    "evenInputFile2rows = {}\n",
    "import random\n",
    "for input_csv, rows in inputFile2rows.items():\n",
    "    evenInputFile2rows[input_csv] = random.sample(rows, lowest_row_count)\n",
    "\n",
    "print(f'After evening out, heres the inputFile2rows')\n",
    "for input_csv, rows in evenInputFile2rows.items():\n",
    "    print(f'{input_csv} has {len(rows)} rows')\n",
    "\n",
    "all_rows = []\n",
    "for input_csv, rows in evenInputFile2rows.items():\n",
    "    for row in rows:\n",
    "        all_rows.append(row)\n",
    "\n",
    "print(f'All rows has {len(all_rows)} rows')\n",
    "\n",
    "create_csv(keypoint_csv_path, all_rows)\n",
    "print(f\"Created {keypoint_csv_path} and {label_csv_path} with {len(rows)} rows\")"
   ]
  }
 ],
 "metadata": {
  "kernelspec": {
   "display_name": "Python 3",
   "language": "python",
   "name": "python3"
  },
  "language_info": {
   "codemirror_mode": {
    "name": "ipython",
    "version": 3
   },
   "file_extension": ".py",
   "mimetype": "text/x-python",
   "name": "python",
   "nbconvert_exporter": "python",
   "pygments_lexer": "ipython3",
   "version": "3.11.0"
  }
 },
 "nbformat": 4,
 "nbformat_minor": 5
}
