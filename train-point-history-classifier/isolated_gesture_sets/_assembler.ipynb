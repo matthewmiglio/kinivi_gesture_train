{
 "cells": [
  {
   "cell_type": "code",
   "execution_count": 1,
   "id": "c0985b70",
   "metadata": {},
   "outputs": [],
   "source": [
    "import csv\n",
    "import os\n",
    "import datetime\n",
    "\n",
    "\n",
    "def read_csv(file_path):\n",
    "    with open(file_path, mode=\"r\", encoding=\"utf-8\") as file:\n",
    "        reader = csv.reader(file)\n",
    "        data = [row for row in reader]\n",
    "    return data\n",
    "\n",
    "\n",
    "def create_csv(path, rows):\n",
    "    with open(path, mode=\"w\", newline=\"\", encoding=\"utf-8\") as file:\n",
    "        writer = csv.writer(file)\n",
    "        for row in rows:\n",
    "            writer.writerow(row)\n",
    "\n",
    "\n",
    "def get_readable_time():\n",
    "    now = datetime.datetime.now()\n",
    "    return now.strftime(\"%Y-%m-%d-%H-%M-%S\")\n",
    "\n",
    "\n",
    "readable_time = get_readable_time()\n",
    "\n"
   ]
  },
  {
   "cell_type": "code",
   "execution_count": 2,
   "id": "a8f86983",
   "metadata": {},
   "outputs": [
    {
     "name": "stdout",
     "output_type": "stream",
     "text": [
      "c:\\my_files\\code\\kinivi_gesture_train\\train-point-history-classifier\\2025-05-08-12-52-35\\point_history.csv\n"
     ]
    }
   ],
   "source": [
    "new_csv_path = os.getcwd().replace(\n",
    "    \"isolated_gesture_sets\", f\"{readable_time}\\point_history.csv\"\n",
    ")\n",
    "os.makedirs(os.path.dirname(new_csv_path), exist_ok=True)\n",
    "print(new_csv_path)\n",
    "\n",
    "include_files = [\n",
    "    r'C:\\my_files\\code\\kinivi_gesture_train\\train-point-history-classifier\\isolated_gesture_sets\\diverse_synthetic_cw_1_combined.csv',\n",
    "    r'C:\\my_files\\code\\kinivi_gesture_train\\train-point-history-classifier\\isolated_gesture_sets\\diverse_synthetic_ccw_2_combined.csv',\n",
    "    r\"C:\\my_files\\code\\kinivi_gesture_train\\train-point-history-classifier\\isolated_gesture_sets\\diverse_synthetic_downswipe_4.csv\",\n",
    "    r\"C:\\my_files\\code\\kinivi_gesture_train\\train-point-history-classifier\\isolated_gesture_sets\\diverse_synthetic_erratic_3.csv\",\n",
    "    r\"C:\\my_files\\code\\kinivi_gesture_train\\train-point-history-classifier\\isolated_gesture_sets\\diverse_synthetic_leftswipe_6.csv\",\n",
    "    r\"C:\\my_files\\code\\kinivi_gesture_train\\train-point-history-classifier\\isolated_gesture_sets\\diverse_synthetic_rightswipe_7.csv\",\n",
    "    r\"C:\\my_files\\code\\kinivi_gesture_train\\train-point-history-classifier\\isolated_gesture_sets\\diverse_synthetic_stop_0.csv\",\n",
    "    r\"C:\\my_files\\code\\kinivi_gesture_train\\train-point-history-classifier\\isolated_gesture_sets\\diverse_synthetic_upswipe_5.csv\",\n",
    "]\n",
    "\n",
    "rows = []\n",
    "for csv_file in include_files:\n",
    "    these_rows = read_csv(csv_file)\n",
    "    rows.extend(these_rows)\n",
    "\n",
    "create_csv(new_csv_path, rows)"
   ]
  },
  {
   "cell_type": "code",
   "execution_count": 3,
   "id": "8e054191",
   "metadata": {},
   "outputs": [
    {
     "name": "stdout",
     "output_type": "stream",
     "text": [
      "1 diverse_synthetic_cw_1_combined\n",
      "2 diverse_synthetic_ccw_2_combined\n",
      "4 diverse_synthetic_downswipe_4\n",
      "3 diverse_synthetic_erratic_3\n",
      "6 diverse_synthetic_leftswipe_6\n",
      "7 diverse_synthetic_rightswipe_7\n",
      "0 diverse_synthetic_stop_0\n",
      "5 diverse_synthetic_upswipe_5\n",
      "[['diverse_synthetic_stop_0'], ['diverse_synthetic_cw_1_combined'], ['diverse_synthetic_ccw_2_combined'], ['diverse_synthetic_erratic_3'], ['diverse_synthetic_downswipe_4'], ['diverse_synthetic_upswipe_5'], ['diverse_synthetic_leftswipe_6'], ['diverse_synthetic_rightswipe_7']]\n"
     ]
    }
   ],
   "source": [
    "label2fn = {}\n",
    "\n",
    "for include_file in include_files:\n",
    "    basename = os.path.basename(include_file).split('.')[0].replace('point_history_','')\n",
    "    rows = read_csv(include_file)\n",
    "    first_row = rows[0]\n",
    "    row_label = first_row[0]\n",
    "    if row_label in label2fn:\n",
    "        print(f\"Duplicate label found: {row_label} in {label2fn[row_label]} and {basename}\")\n",
    "        continue\n",
    "    label2fn[row_label] = basename\n",
    "\n",
    "rows = []\n",
    "for label,fn in label2fn.items():\n",
    "    print(label,fn)\n",
    "    row = [label,fn]\n",
    "    rows.append(row)\n",
    "\n",
    "\n",
    "#sort rows by label\n",
    "rows.sort(key=lambda x: x[0])\n",
    "\n",
    "label_csv_file_path =os.getcwd().replace(\n",
    "    \"isolated_gesture_sets\", f\"{readable_time}\\point_history_classifier_label.csv\"\n",
    ")\n",
    "sorted_labels = [[row[1]] for row in rows]\n",
    "print(sorted_labels)\n",
    "create_csv(label_csv_file_path, sorted_labels)\n",
    "\n"
   ]
  }
 ],
 "metadata": {
  "kernelspec": {
   "display_name": "Python 3",
   "language": "python",
   "name": "python3"
  },
  "language_info": {
   "codemirror_mode": {
    "name": "ipython",
    "version": 3
   },
   "file_extension": ".py",
   "mimetype": "text/x-python",
   "name": "python",
   "nbconvert_exporter": "python",
   "pygments_lexer": "ipython3",
   "version": "3.11.0"
  }
 },
 "nbformat": 4,
 "nbformat_minor": 5
}
