{
 "cells": [
  {
   "cell_type": "code",
   "execution_count": 13,
   "id": "c0985b70",
   "metadata": {},
   "outputs": [],
   "source": [
    "import csv\n",
    "import os\n",
    "import datetime\n",
    "\n",
    "\n",
    "def read_csv(file_path):\n",
    "    with open(file_path, mode=\"r\", encoding=\"utf-8\") as file:\n",
    "        reader = csv.reader(file)\n",
    "        data = [row for row in reader]\n",
    "    return data\n",
    "\n",
    "\n",
    "def create_csv(path, rows):\n",
    "    with open(path, mode=\"w\", newline=\"\", encoding=\"utf-8\") as file:\n",
    "        writer = csv.writer(file)\n",
    "        for row in rows:\n",
    "            writer.writerow(row)\n",
    "\n",
    "\n",
    "def get_readable_time():\n",
    "    now = datetime.datetime.now()\n",
    "    return now.strftime(\"%Y-%m-%d-%H-%M-%S\")\n",
    "\n",
    "\n",
    "readable_time = get_readable_time()\n",
    "\n"
   ]
  },
  {
   "cell_type": "code",
   "execution_count": 14,
   "id": "a8f86983",
   "metadata": {},
   "outputs": [
    {
     "name": "stdout",
     "output_type": "stream",
     "text": [
      "c:\\my_files\\code\\train-point-history-classifier\\2025-05-03-11-30-13\\point_history.csv\n"
     ]
    }
   ],
   "source": [
    "new_csv_path = os.getcwd().replace(\n",
    "    \"isolated_gesture_sets\", f\"{readable_time}\\point_history.csv\"\n",
    ")\n",
    "os.makedirs(os.path.dirname(new_csv_path), exist_ok=True)\n",
    "print(new_csv_path)\n",
    "\n",
    "include_files = [\n",
    "    r'C:\\my_files\\code\\train-point-history-classifier\\isolated_gesture_sets\\point_history_big2_0_still_pointer.csv',\n",
    "    r'C:\\my_files\\code\\train-point-history-classifier\\isolated_gesture_sets\\point_history_big2_1_erratic.csv',\n",
    "    r'C:\\my_files\\code\\train-point-history-classifier\\isolated_gesture_sets\\point_history_big2_2_ccw.csv',\n",
    "    r'C:\\my_files\\code\\train-point-history-classifier\\isolated_gesture_sets\\point_history_big2_3_cw.csv',\n",
    "    r'C:\\my_files\\code\\train-point-history-classifier\\isolated_gesture_sets\\point_history_big2_4_down_swipe.csv',\n",
    "    r'C:\\my_files\\code\\train-point-history-classifier\\isolated_gesture_sets\\point_history_big2_5_up_swipe.csv',\n",
    "    r'C:\\my_files\\code\\train-point-history-classifier\\isolated_gesture_sets\\point_history_big2_6_left_swipe.csv',\n",
    "    r'C:\\my_files\\code\\train-point-history-classifier\\isolated_gesture_sets\\point_history_big2_7_right_swipe.csv',\n",
    "]\n",
    "\n",
    "rows = []\n",
    "for csv_file in include_files:\n",
    "    these_rows = read_csv(csv_file)\n",
    "    rows.extend(these_rows)\n",
    "\n",
    "create_csv(new_csv_path, rows)"
   ]
  },
  {
   "cell_type": "code",
   "execution_count": 15,
   "id": "8e054191",
   "metadata": {},
   "outputs": [
    {
     "name": "stdout",
     "output_type": "stream",
     "text": [
      "0 big2_0_still_pointer\n",
      "1 big2_1_erratic\n",
      "2 big2_2_ccw\n",
      "3 big2_3_cw\n",
      "4 big2_4_down_swipe\n",
      "5 big2_5_up_swipe\n",
      "6 big2_6_left_swipe\n",
      "7 big2_7_right_swipe\n",
      "[['big2_0_still_pointer'], ['big2_1_erratic'], ['big2_2_ccw'], ['big2_3_cw'], ['big2_4_down_swipe'], ['big2_5_up_swipe'], ['big2_6_left_swipe'], ['big2_7_right_swipe']]\n"
     ]
    }
   ],
   "source": [
    "label2fn = {}\n",
    "\n",
    "for include_file in include_files:\n",
    "    basename = os.path.basename(include_file).split('.')[0].replace('point_history_','')\n",
    "    rows = read_csv(include_file)\n",
    "    first_row = rows[0]\n",
    "    row_label = first_row[0]\n",
    "    if row_label in label2fn:\n",
    "        print(f\"Duplicate label found: {row_label} in {label2fn[row_label]} and {basename}\")\n",
    "        continue\n",
    "    label2fn[row_label] = basename\n",
    "\n",
    "rows = []\n",
    "for label,fn in label2fn.items():\n",
    "    print(label,fn)\n",
    "    row = [label,fn]\n",
    "    rows.append(row)\n",
    "\n",
    "\n",
    "#sort rows by label\n",
    "rows.sort(key=lambda x: x[0])\n",
    "\n",
    "label_csv_file_path =os.getcwd().replace(\n",
    "    \"isolated_gesture_sets\", f\"{readable_time}\\point_history_classifier_label.csv\"\n",
    ")\n",
    "sorted_labels = [[row[1]] for row in rows]\n",
    "print(sorted_labels)\n",
    "create_csv(label_csv_file_path, sorted_labels)\n",
    "\n"
   ]
  }
 ],
 "metadata": {
  "kernelspec": {
   "display_name": "Python 3",
   "language": "python",
   "name": "python3"
  },
  "language_info": {
   "codemirror_mode": {
    "name": "ipython",
    "version": 3
   },
   "file_extension": ".py",
   "mimetype": "text/x-python",
   "name": "python",
   "nbconvert_exporter": "python",
   "pygments_lexer": "ipython3",
   "version": "3.11.0"
  }
 },
 "nbformat": 4,
 "nbformat_minor": 5
}
