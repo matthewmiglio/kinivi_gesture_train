{
 "cells": [
  {
   "cell_type": "code",
   "execution_count": 1,
   "id": "03d71fb0",
   "metadata": {},
   "outputs": [],
   "source": [
    "import csv\n",
    "\n",
    "\n",
    "def read_csv(file_path):\n",
    "    with open(file_path, mode=\"r\", encoding=\"utf-8\") as file:\n",
    "        reader = csv.reader(file)\n",
    "        data = [row for row in reader]\n",
    "    return data\n",
    "\n",
    "\n",
    "def create_csv(path, rows):\n",
    "    with open(path, mode=\"w\", newline=\"\", encoding=\"utf-8\") as file:\n",
    "        writer = csv.writer(file)\n",
    "        for row in rows:\n",
    "            writer.writerow(row)"
   ]
  },
  {
   "cell_type": "code",
   "execution_count": 2,
   "id": "59292a88",
   "metadata": {},
   "outputs": [
    {
     "name": "stdout",
     "output_type": "stream",
     "text": [
      "Relabeled 6446 rows in point_history_big2_3_cw.csv with label 1.\n"
     ]
    }
   ],
   "source": [
    "def relabel_csv(input_csv_path,new_label:int):\n",
    "    rows = read_csv(input_csv_path)\n",
    "    if len(rows) ==0:return\n",
    "\n",
    "    new_rows = []\n",
    "    for row in rows:\n",
    "        row[0] = str(new_label)\n",
    "        new_rows.append(row)\n",
    "\n",
    "    create_csv(input_csv_path, new_rows)\n",
    "    print(f'Relabeled {len(rows)} rows in {input_csv_path} with label {new_label}.')\n",
    "\n",
    "\n",
    "\n",
    "relabel_csv(r'point_history_big2_3_cw.csv',1)"
   ]
  }
 ],
 "metadata": {
  "kernelspec": {
   "display_name": "Python 3",
   "language": "python",
   "name": "python3"
  },
  "language_info": {
   "codemirror_mode": {
    "name": "ipython",
    "version": 3
   },
   "file_extension": ".py",
   "mimetype": "text/x-python",
   "name": "python",
   "nbconvert_exporter": "python",
   "pygments_lexer": "ipython3",
   "version": "3.11.0"
  }
 },
 "nbformat": 4,
 "nbformat_minor": 5
}
