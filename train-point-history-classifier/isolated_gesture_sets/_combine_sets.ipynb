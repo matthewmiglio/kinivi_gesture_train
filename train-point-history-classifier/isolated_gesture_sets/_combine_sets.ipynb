{
 "cells": [
  {
   "cell_type": "code",
   "execution_count": 37,
   "id": "4e475b86",
   "metadata": {},
   "outputs": [],
   "source": [
    "import csv\n",
    "\n",
    "def read_csv(file_path):\n",
    "    with open(file_path, mode=\"r\", encoding=\"utf-8\") as file:\n",
    "        reader = csv.reader(file)\n",
    "        data = [row for row in reader]\n",
    "    return data\n",
    "\n",
    "\n",
    "def create_csv(path, rows):\n",
    "    with open(path, mode=\"w\", newline=\"\", encoding=\"utf-8\") as file:\n",
    "        writer = csv.writer(file)\n",
    "        for row in rows:\n",
    "            writer.writerow(row)"
   ]
  },
  {
   "cell_type": "code",
   "execution_count": 38,
   "id": "00afdd13",
   "metadata": {},
   "outputs": [],
   "source": [
    "def combine_csvs(csv_file_paths):\n",
    "    target_label = None\n",
    "    rows = []\n",
    "    for csv_file_path in csv_file_paths:\n",
    "        these_rows = read_csv(csv_file_path)\n",
    "        rows.extend(these_rows)\n",
    "        this_label = these_rows[0][0]\n",
    "        if target_label is None:\n",
    "            target_label = this_label\n",
    "        if target_label != this_label:\n",
    "            print(f'warning {csv_file_path} has a different label {this_label} than the first file {target_label}')\n",
    "            return\n",
    "        \n",
    "    first_csv_path = csv_file_paths[0]\n",
    "    output_csv_path = first_csv_path.replace(\".csv\", \"_combined.csv\")\n",
    "    create_csv(output_csv_path, rows)\n",
    "    print(f'Created a combined csv at {output_csv_path} with {len(rows)} rows')\n",
    "    "
   ]
  },
  {
   "cell_type": "code",
   "execution_count": 39,
   "id": "55d1c7f4",
   "metadata": {},
   "outputs": [
    {
     "name": "stdout",
     "output_type": "stream",
     "text": [
      "Created a combined csv at C:\\my_files\\code\\kinivi_gesture_train\\train-point-history-classifier\\isolated_gesture_sets\\diverse_synthetic_cw_1_combined.csv with 7446 rows\n"
     ]
    }
   ],
   "source": [
    "combine_csvs(\n",
    "    [\n",
    "       r'C:\\my_files\\code\\kinivi_gesture_train\\train-point-history-classifier\\isolated_gesture_sets\\diverse_synthetic_cw_1.csv',\n",
    "       r'C:\\my_files\\code\\kinivi_gesture_train\\train-point-history-classifier\\isolated_gesture_sets\\point_history_big2_3_cw.csv',\n",
    "    ]\n",
    ")"
   ]
  }
 ],
 "metadata": {
  "kernelspec": {
   "display_name": "Python 3",
   "language": "python",
   "name": "python3"
  },
  "language_info": {
   "codemirror_mode": {
    "name": "ipython",
    "version": 3
   },
   "file_extension": ".py",
   "mimetype": "text/x-python",
   "name": "python",
   "nbconvert_exporter": "python",
   "pygments_lexer": "ipython3",
   "version": "3.11.0"
  }
 },
 "nbformat": 4,
 "nbformat_minor": 5
}
