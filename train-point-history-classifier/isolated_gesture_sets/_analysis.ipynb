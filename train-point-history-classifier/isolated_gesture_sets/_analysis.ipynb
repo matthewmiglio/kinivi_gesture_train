{
 "cells": [
  {
   "cell_type": "code",
   "execution_count": 3,
   "id": "b700c297",
   "metadata": {},
   "outputs": [],
   "source": [
    "import csv\n",
    "import os\n",
    "import datetime\n",
    "\n",
    "\n",
    "def read_csv(file_path):\n",
    "    with open(file_path, mode=\"r\", encoding=\"utf-8\") as file:\n",
    "        reader = csv.reader(file)\n",
    "        data = [row for row in reader]\n",
    "    return data\n",
    "\n",
    "\n",
    "def create_csv(path, rows):\n",
    "    with open(path, mode=\"w\", newline=\"\", encoding=\"utf-8\") as file:\n",
    "        writer = csv.writer(file)\n",
    "        for row in rows:\n",
    "            writer.writerow(row)\n",
    "\n"
   ]
  },
  {
   "cell_type": "code",
   "execution_count": 4,
   "id": "53e051f8",
   "metadata": {},
   "outputs": [
    {
     "name": "stdout",
     "output_type": "stream",
     "text": [
      "diverse_synthetic_ccw_2.csv 1000\n",
      "point_history_big2_2_ccw.csv 3137\n",
      "point_history_big3cut_2_ccw_cut_to_1000_.csv 1000\n",
      "point_history_Big_ccw_2.csv 173\n",
      "point_history_ccw.csv 2577\n",
      "point_history_matt2_ccw_2.csv 2354\n",
      "point_history_matt2_ccw_2_cut_to_819_.csv 819\n",
      "synthetic_ccw_2.csv 1000\n"
     ]
    }
   ],
   "source": [
    "for fn in os.listdir(os.getcwd()):\n",
    "    fp = os.path.join(os.getcwd(), fn)\n",
    "    if not fp.endswith(\".csv\"):\n",
    "        continue\n",
    "    rows = read_csv(fp)\n",
    "    if 'ccw' not in fn:continue\n",
    "    print(fn, len(rows))\n"
   ]
  }
 ],
 "metadata": {
  "kernelspec": {
   "display_name": "Python 3",
   "language": "python",
   "name": "python3"
  },
  "language_info": {
   "codemirror_mode": {
    "name": "ipython",
    "version": 3
   },
   "file_extension": ".py",
   "mimetype": "text/x-python",
   "name": "python",
   "nbconvert_exporter": "python",
   "pygments_lexer": "ipython3",
   "version": "3.11.0"
  }
 },
 "nbformat": 4,
 "nbformat_minor": 5
}
