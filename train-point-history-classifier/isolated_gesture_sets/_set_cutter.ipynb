{
 "cells": [
  {
   "cell_type": "code",
   "execution_count": null,
   "id": "3489a467",
   "metadata": {},
   "outputs": [],
   "source": [
    "import csv\n",
    "import random\n"
   ]
  },
  {
   "cell_type": "code",
   "execution_count": 12,
   "id": "03df6c9d",
   "metadata": {},
   "outputs": [],
   "source": [
    "def read_csv(file_path):\n",
    "    with open(file_path, mode=\"r\", encoding=\"utf-8\") as file:\n",
    "        reader = csv.reader(file)\n",
    "        data = [row for row in reader]\n",
    "    return data\n",
    "\n",
    "\n",
    "def create_csv(path, rows):\n",
    "    with open(path, mode=\"w\", newline=\"\", encoding=\"utf-8\") as file:\n",
    "        writer = csv.writer(file)\n",
    "        for row in rows:\n",
    "            writer.writerow(row)\n",
    "\n"
   ]
  },
  {
   "cell_type": "code",
   "execution_count": 13,
   "id": "faa043fc",
   "metadata": {},
   "outputs": [],
   "source": [
    "def cut_csv(\n",
    "    target_csv_path,\n",
    "    target_amount,\n",
    "):\n",
    "    new_csv_path = target_csv_path.replace(\".csv\", f\"_cut_to_{target_amount}_.csv\")\n",
    "    rows = read_csv(target_csv_path)\n",
    "    selected_rows = random.sample(rows, target_amount)\n",
    "    create_csv(new_csv_path, selected_rows)"
   ]
  },
  {
   "cell_type": "code",
   "execution_count": null,
   "id": "8047afd5",
   "metadata": {},
   "outputs": [],
   "source": [
    "file_paths = [\n",
    "    r'',\n",
    "]\n",
    "\n",
    "for file_path in file_paths:\n",
    "    cut_csv(\n",
    "        file_path,\n",
    "        819,\n",
    "    )"
   ]
  }
 ],
 "metadata": {
  "kernelspec": {
   "display_name": "Python 3",
   "language": "python",
   "name": "python3"
  },
  "language_info": {
   "codemirror_mode": {
    "name": "ipython",
    "version": 3
   },
   "file_extension": ".py",
   "mimetype": "text/x-python",
   "name": "python",
   "nbconvert_exporter": "python",
   "pygments_lexer": "ipython3",
   "version": "3.11.0"
  }
 },
 "nbformat": 4,
 "nbformat_minor": 5
}
