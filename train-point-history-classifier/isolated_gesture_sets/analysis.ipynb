{
 "cells": [
  {
   "cell_type": "code",
   "execution_count": 1,
   "id": "b700c297",
   "metadata": {},
   "outputs": [],
   "source": [
    "import csv\n",
    "import os\n",
    "import datetime\n",
    "\n",
    "\n",
    "def read_csv(file_path):\n",
    "    with open(file_path, mode=\"r\", encoding=\"utf-8\") as file:\n",
    "        reader = csv.reader(file)\n",
    "        data = [row for row in reader]\n",
    "    return data\n",
    "\n",
    "\n",
    "def create_csv(path, rows):\n",
    "    with open(path, mode=\"w\", newline=\"\", encoding=\"utf-8\") as file:\n",
    "        writer = csv.writer(file)\n",
    "        for row in rows:\n",
    "            writer.writerow(row)\n",
    "\n"
   ]
  },
  {
   "cell_type": "code",
   "execution_count": 2,
   "id": "53e051f8",
   "metadata": {},
   "outputs": [
    {
     "name": "stdout",
     "output_type": "stream",
     "text": [
      "point_history_big2_0_still_pointer.csv 3411\n",
      "point_history_big2_1_erratic.csv 3681\n",
      "point_history_big2_2_ccw.csv 3137\n",
      "point_history_big2_3_cw.csv 6446\n",
      "point_history_big2_4_down_swipe.csv 1540\n",
      "point_history_big2_5_up_swipe.csv 1167\n",
      "point_history_big2_6_left_swipe.csv 1067\n",
      "point_history_big2_7_right_swipe.csv 1380\n",
      "point_history_big3cut_0_still_pointer_cut_to_1000_.csv 1000\n",
      "point_history_big3cut_1_erratic_cut_to_1000_.csv 1000\n",
      "point_history_big3cut_2_ccw_cut_to_1000_.csv 1000\n",
      "point_history_big3cut_3_cw_cut_to_1000_.csv 1000\n",
      "point_history_big3cut_4_down_swipe_cut_to_1000_.csv 1000\n",
      "point_history_big3cut_5_up_swipe_cut_to_1000_.csv 1000\n",
      "point_history_big3cut_6_left_swipe_cut_to_1000_.csv 1000\n",
      "point_history_big3cut_7_right_swipe_cut_to_1000_.csv 1000\n",
      "point_history_Big_ccw_2.csv 173\n",
      "point_history_Big_stillPointer_7.csv 1990\n",
      "point_history_ccw.csv 2577\n",
      "point_history_cw.csv 2398\n",
      "point_history_matt2_ccw_2.csv 2354\n",
      "point_history_matt2_ccw_2_cut_to_819_.csv 819\n",
      "point_history_matt2_cw_1.csv 2721\n",
      "point_history_matt2_cw_1_cut_to_819_.csv 819\n",
      "point_history_matt2_downSwipe_6.csv 1347\n",
      "point_history_matt2_downSwipe_6_cut_to_819_.csv 819\n",
      "point_history_matt2_erratic_0.csv 377\n",
      "point_history_matt2_erratic_1100_0.csv 1175\n",
      "point_history_matt2_leftSwipe_4.csv 928\n",
      "point_history_matt2_leftSwipe_4_cut_to_819_.csv 819\n",
      "point_history_matt2_rightSwipe_3.csv 819\n",
      "point_history_matt2_rightSwipe_3_cut_to_819_.csv 819\n",
      "point_history_matt2_upSwipe_5.csv 967\n",
      "point_history_matt2_upSwipe_5_cut_to_819_.csv 819\n",
      "point_history_matt_swipe_down.csv 292\n",
      "point_history_matt_swipe_left.csv 522\n",
      "point_history_matt_swipe_right.csv 555\n",
      "point_history_matt_swipe_up.csv 259\n",
      "point_history_move.csv 1302\n",
      "point_history_stop.csv 1481\n",
      "point_history_swipeDown.csv 110\n",
      "point_history_swipeLeft.csv 74\n",
      "point_history_swipeRight.csv 157\n",
      "point_history_swipeUp.csv 144\n"
     ]
    }
   ],
   "source": [
    "for fn in os.listdir(os.getcwd()):\n",
    "    fp = os.path.join(os.getcwd(), fn)\n",
    "    if not fp.endswith(\".csv\"):\n",
    "        continue\n",
    "    rows = read_csv(fp)\n",
    "    print(fn, len(rows))\n"
   ]
  }
 ],
 "metadata": {
  "kernelspec": {
   "display_name": "Python 3",
   "language": "python",
   "name": "python3"
  },
  "language_info": {
   "codemirror_mode": {
    "name": "ipython",
    "version": 3
   },
   "file_extension": ".py",
   "mimetype": "text/x-python",
   "name": "python",
   "nbconvert_exporter": "python",
   "pygments_lexer": "ipython3",
   "version": "3.11.0"
  }
 },
 "nbformat": 4,
 "nbformat_minor": 5
}
